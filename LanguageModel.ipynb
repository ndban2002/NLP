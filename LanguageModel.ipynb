{
  "cells": [
    {
      "cell_type": "code",
      "execution_count": null,
      "id": "b54931b6",
      "metadata": {
        "id": "b54931b6"
      },
      "outputs": [],
      "source": [
        "import pandas as pd\n",
        "df = pd.read_csv('sentence_classification.csv')\n",
        "\n",
        "names = df.columns\n",
        "df1 = df[names[0]].dropna()\n",
        "df2 = df[names[1]].dropna()"
      ]
    },
    {
      "cell_type": "code",
      "execution_count": null,
      "id": "a6b0e757",
      "metadata": {
        "colab": {
          "base_uri": "https://localhost:8080/"
        },
        "id": "a6b0e757",
        "outputId": "91a88578-402d-4d27-9ec4-48fdc6c7fcb3"
      },
      "outputs": [
        {
          "output_type": "stream",
          "name": "stdout",
          "text": [
            "Ăn nói xà lơ\n",
            "P(nói | ăn) = 0.00011465260261407935\n",
            "P(xà | nói) = 0.00036737692872887586\n",
            "P(lơ | xà) = 0.7351212343864805\n"
          ]
        }
      ],
      "source": [
        "import nltk\n",
        "from nltk.lm.preprocessing import pad_both_ends, flatten, padded_everygram_pipeline\n",
        "\n",
        "\n",
        "#Tạo danh sách lấy các câu từ dữ liệu\n",
        "sentences = []\n",
        "for i in df1.values:\n",
        "    sentences.append(i)\n",
        "for i in df2.values:\n",
        "    sentences.append(i)\n",
        "\n",
        "\n",
        "# Huấn luyện Language Model trên danh sách câu\n",
        "data = [list(map(str.lower, sent.split())) for sent in sentences]\n",
        "n = 2\n",
        "train_data, padded_sents = padded_everygram_pipeline(n, data)\n",
        "model = nltk.lm.Lidstone(0.001, n)\n",
        "model.fit(train_data, padded_sents)\n",
        "\n",
        "# Tính toán xác suất 2-gram cho câu được truyền vào\n",
        "sent = input()\n",
        "words = sent.lower().split()\n",
        "for i in range(len(words) - 1):\n",
        "    word1 = words[i]\n",
        "    word2 = words[i+1]\n",
        "    padded_words = list(pad_both_ends([word1, word2], n))\n",
        "    bigrams = list(nltk.ngrams(padded_words, n))\n",
        "    prob = model.score(bigrams[-1][-1], bigrams[-1][0:-1])\n",
        "    print('P({} | {}) = {}'.format(word2, word1, prob))"
      ]
    }
  ],
  "metadata": {
    "kernelspec": {
      "display_name": "Python 3 (ipykernel)",
      "language": "python",
      "name": "python3"
    },
    "language_info": {
      "codemirror_mode": {
        "name": "ipython",
        "version": 3
      },
      "file_extension": ".py",
      "mimetype": "text/x-python",
      "name": "python",
      "nbconvert_exporter": "python",
      "pygments_lexer": "ipython3",
      "version": "3.9.12"
    },
    "colab": {
      "provenance": []
    }
  },
  "nbformat": 4,
  "nbformat_minor": 5
}