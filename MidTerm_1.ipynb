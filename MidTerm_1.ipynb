{
 "cells": [
  {
   "cell_type": "code",
   "execution_count": 1,
   "id": "8fbdf953",
   "metadata": {},
   "outputs": [
    {
     "name": "stdout",
     "output_type": "stream",
     "text": [
      "Requirement already satisfied: pyvi in c:\\users\\asus\\anaconda3\\lib\\site-packages (0.1.1)\n",
      "Requirement already satisfied: scikit-learn in c:\\users\\asus\\anaconda3\\lib\\site-packages (from pyvi) (1.0.2)\n",
      "Requirement already satisfied: sklearn-crfsuite in c:\\users\\asus\\anaconda3\\lib\\site-packages (from pyvi) (0.3.6)\n",
      "Requirement already satisfied: scipy>=1.1.0 in c:\\users\\asus\\anaconda3\\lib\\site-packages (from scikit-learn->pyvi) (1.7.3)\n",
      "Requirement already satisfied: threadpoolctl>=2.0.0 in c:\\users\\asus\\anaconda3\\lib\\site-packages (from scikit-learn->pyvi) (2.2.0)\n",
      "Requirement already satisfied: numpy>=1.14.6 in c:\\users\\asus\\anaconda3\\lib\\site-packages (from scikit-learn->pyvi) (1.21.5)\n",
      "Requirement already satisfied: joblib>=0.11 in c:\\users\\asus\\anaconda3\\lib\\site-packages (from scikit-learn->pyvi) (1.1.0)\n",
      "Requirement already satisfied: python-crfsuite>=0.8.3 in c:\\users\\asus\\anaconda3\\lib\\site-packages (from sklearn-crfsuite->pyvi) (0.9.9)\n",
      "Requirement already satisfied: tqdm>=2.0 in c:\\users\\asus\\anaconda3\\lib\\site-packages (from sklearn-crfsuite->pyvi) (4.64.0)\n",
      "Requirement already satisfied: tabulate in c:\\users\\asus\\anaconda3\\lib\\site-packages (from sklearn-crfsuite->pyvi) (0.8.9)\n",
      "Requirement already satisfied: six in c:\\users\\asus\\anaconda3\\lib\\site-packages (from sklearn-crfsuite->pyvi) (1.16.0)\n",
      "Requirement already satisfied: colorama in c:\\users\\asus\\anaconda3\\lib\\site-packages (from tqdm>=2.0->sklearn-crfsuite->pyvi) (0.4.4)\n"
     ]
    }
   ],
   "source": [
    "!pip install pyvi"
   ]
  },
  {
   "cell_type": "code",
   "execution_count": 2,
   "id": "50b58edc",
   "metadata": {},
   "outputs": [
    {
     "name": "stdout",
     "output_type": "stream",
     "text": [
      "Requirement already satisfied: tensorflow in c:\\users\\asus\\anaconda3\\lib\\site-packages (2.9.1)\n",
      "Requirement already satisfied: packaging in c:\\users\\asus\\anaconda3\\lib\\site-packages (from tensorflow) (21.3)\n",
      "Requirement already satisfied: gast<=0.4.0,>=0.2.1 in c:\\users\\asus\\anaconda3\\lib\\site-packages (from tensorflow) (0.4.0)\n",
      "Requirement already satisfied: astunparse>=1.6.0 in c:\\users\\asus\\anaconda3\\lib\\site-packages (from tensorflow) (1.6.3)\n",
      "Requirement already satisfied: h5py>=2.9.0 in c:\\users\\asus\\anaconda3\\lib\\site-packages (from tensorflow) (3.6.0)\n",
      "Requirement already satisfied: google-pasta>=0.1.1 in c:\\users\\asus\\anaconda3\\lib\\site-packages (from tensorflow) (0.2.0)\n",
      "Requirement already satisfied: libclang>=13.0.0 in c:\\users\\asus\\anaconda3\\lib\\site-packages (from tensorflow) (14.0.6)\n",
      "Requirement already satisfied: six>=1.12.0 in c:\\users\\asus\\anaconda3\\lib\\site-packages (from tensorflow) (1.16.0)\n",
      "Requirement already satisfied: grpcio<2.0,>=1.24.3 in c:\\users\\asus\\anaconda3\\lib\\site-packages (from tensorflow) (1.42.0)\n",
      "Requirement already satisfied: tensorflow-io-gcs-filesystem>=0.23.1 in c:\\users\\asus\\anaconda3\\lib\\site-packages (from tensorflow) (0.26.0)\n",
      "Requirement already satisfied: typing-extensions>=3.6.6 in c:\\users\\asus\\anaconda3\\lib\\site-packages (from tensorflow) (4.1.1)\n",
      "Requirement already satisfied: tensorflow-estimator<2.10.0,>=2.9.0rc0 in c:\\users\\asus\\anaconda3\\lib\\site-packages (from tensorflow) (2.9.0)\n",
      "Requirement already satisfied: termcolor>=1.1.0 in c:\\users\\asus\\anaconda3\\lib\\site-packages (from tensorflow) (1.1.0)\n",
      "Requirement already satisfied: flatbuffers<2,>=1.12 in c:\\users\\asus\\anaconda3\\lib\\site-packages (from tensorflow) (1.12)\n",
      "Requirement already satisfied: keras<2.10.0,>=2.9.0rc0 in c:\\users\\asus\\anaconda3\\lib\\site-packages (from tensorflow) (2.9.0)\n",
      "Requirement already satisfied: absl-py>=1.0.0 in c:\\users\\asus\\anaconda3\\lib\\site-packages (from tensorflow) (1.2.0)\n",
      "Requirement already satisfied: setuptools in c:\\users\\asus\\anaconda3\\lib\\site-packages (from tensorflow) (61.2.0)\n",
      "Requirement already satisfied: numpy>=1.20 in c:\\users\\asus\\anaconda3\\lib\\site-packages (from tensorflow) (1.21.5)\n",
      "Requirement already satisfied: keras-preprocessing>=1.1.1 in c:\\users\\asus\\anaconda3\\lib\\site-packages (from tensorflow) (1.1.2)\n",
      "Collecting protobuf<3.20,>=3.9.2\n",
      "  Downloading protobuf-3.19.6-cp39-cp39-win_amd64.whl (895 kB)\n",
      "Requirement already satisfied: wrapt>=1.11.0 in c:\\users\\asus\\anaconda3\\lib\\site-packages (from tensorflow) (1.12.1)\n",
      "Requirement already satisfied: tensorboard<2.10,>=2.9 in c:\\users\\asus\\anaconda3\\lib\\site-packages (from tensorflow) (2.9.1)\n",
      "Requirement already satisfied: opt-einsum>=2.3.2 in c:\\users\\asus\\anaconda3\\lib\\site-packages (from tensorflow) (3.3.0)\n",
      "Requirement already satisfied: wheel<1.0,>=0.23.0 in c:\\users\\asus\\anaconda3\\lib\\site-packages (from astunparse>=1.6.0->tensorflow) (0.37.1)\n",
      "Requirement already satisfied: google-auth-oauthlib<0.5,>=0.4.1 in c:\\users\\asus\\anaconda3\\lib\\site-packages (from tensorboard<2.10,>=2.9->tensorflow) (0.4.6)\n",
      "Requirement already satisfied: tensorboard-data-server<0.7.0,>=0.6.0 in c:\\users\\asus\\anaconda3\\lib\\site-packages (from tensorboard<2.10,>=2.9->tensorflow) (0.6.1)\n",
      "Requirement already satisfied: google-auth<3,>=1.6.3 in c:\\users\\asus\\anaconda3\\lib\\site-packages (from tensorboard<2.10,>=2.9->tensorflow) (1.33.0)\n",
      "Requirement already satisfied: markdown>=2.6.8 in c:\\users\\asus\\anaconda3\\lib\\site-packages (from tensorboard<2.10,>=2.9->tensorflow) (3.3.4)\n",
      "Requirement already satisfied: requests<3,>=2.21.0 in c:\\users\\asus\\anaconda3\\lib\\site-packages (from tensorboard<2.10,>=2.9->tensorflow) (2.27.1)\n",
      "Requirement already satisfied: tensorboard-plugin-wit>=1.6.0 in c:\\users\\asus\\anaconda3\\lib\\site-packages (from tensorboard<2.10,>=2.9->tensorflow) (1.8.1)\n",
      "Requirement already satisfied: werkzeug>=1.0.1 in c:\\users\\asus\\anaconda3\\lib\\site-packages (from tensorboard<2.10,>=2.9->tensorflow) (2.0.3)\n",
      "Requirement already satisfied: rsa<5,>=3.1.4 in c:\\users\\asus\\anaconda3\\lib\\site-packages (from google-auth<3,>=1.6.3->tensorboard<2.10,>=2.9->tensorflow) (4.7.2)\n",
      "Requirement already satisfied: cachetools<5.0,>=2.0.0 in c:\\users\\asus\\anaconda3\\lib\\site-packages (from google-auth<3,>=1.6.3->tensorboard<2.10,>=2.9->tensorflow) (4.2.2)\n",
      "Requirement already satisfied: pyasn1-modules>=0.2.1 in c:\\users\\asus\\anaconda3\\lib\\site-packages (from google-auth<3,>=1.6.3->tensorboard<2.10,>=2.9->tensorflow) (0.2.8)\n",
      "Requirement already satisfied: requests-oauthlib>=0.7.0 in c:\\users\\asus\\anaconda3\\lib\\site-packages (from google-auth-oauthlib<0.5,>=0.4.1->tensorboard<2.10,>=2.9->tensorflow) (1.3.1)\n",
      "Requirement already satisfied: pyasn1<0.5.0,>=0.4.6 in c:\\users\\asus\\anaconda3\\lib\\site-packages (from pyasn1-modules>=0.2.1->google-auth<3,>=1.6.3->tensorboard<2.10,>=2.9->tensorflow) (0.4.8)\n",
      "Requirement already satisfied: certifi>=2017.4.17 in c:\\users\\asus\\anaconda3\\lib\\site-packages (from requests<3,>=2.21.0->tensorboard<2.10,>=2.9->tensorflow) (2021.10.8)\n",
      "Requirement already satisfied: charset-normalizer~=2.0.0 in c:\\users\\asus\\anaconda3\\lib\\site-packages (from requests<3,>=2.21.0->tensorboard<2.10,>=2.9->tensorflow) (2.0.4)\n",
      "Requirement already satisfied: urllib3<1.27,>=1.21.1 in c:\\users\\asus\\anaconda3\\lib\\site-packages (from requests<3,>=2.21.0->tensorboard<2.10,>=2.9->tensorflow) (1.26.9)\n",
      "Requirement already satisfied: idna<4,>=2.5 in c:\\users\\asus\\anaconda3\\lib\\site-packages (from requests<3,>=2.21.0->tensorboard<2.10,>=2.9->tensorflow) (3.3)\n",
      "Requirement already satisfied: oauthlib>=3.0.0 in c:\\users\\asus\\anaconda3\\lib\\site-packages (from requests-oauthlib>=0.7.0->google-auth-oauthlib<0.5,>=0.4.1->tensorboard<2.10,>=2.9->tensorflow) (3.2.0)\n",
      "Requirement already satisfied: pyparsing!=3.0.5,>=2.0.2 in c:\\users\\asus\\anaconda3\\lib\\site-packages (from packaging->tensorflow) (3.0.4)\n",
      "Installing collected packages: protobuf\n",
      "  Attempting uninstall: protobuf\n",
      "    Found existing installation: protobuf 4.22.1\n",
      "    Uninstalling protobuf-4.22.1:\n",
      "      Successfully uninstalled protobuf-4.22.1\n",
      "Successfully installed protobuf-3.19.6\n",
      "Requirement already satisfied: tensorflow_hub in c:\\users\\asus\\anaconda3\\lib\\site-packages (0.13.0)\n",
      "Requirement already satisfied: protobuf>=3.19.6 in c:\\users\\asus\\anaconda3\\lib\\site-packages (from tensorflow_hub) (3.19.6)\n",
      "Requirement already satisfied: numpy>=1.12.0 in c:\\users\\asus\\anaconda3\\lib\\site-packages (from tensorflow_hub) (1.21.5)\n"
     ]
    }
   ],
   "source": [
    "!pip install tensorflow\n",
    "!pip install tensorflow_hub"
   ]
  },
  {
   "cell_type": "code",
   "execution_count": 3,
   "id": "10ffaf9c",
   "metadata": {},
   "outputs": [],
   "source": [
    "import pandas as pd\n",
    "import re\n",
    "from pyvi import ViTokenizer\n",
    "import string\n",
    "from sklearn.feature_extraction.text import TfidfVectorizer\n",
    "from sklearn.metrics.pairwise import cosine_similarity\n",
    "from gensim.models.doc2vec import Doc2Vec, TaggedDocument"
   ]
  },
  {
   "cell_type": "code",
   "execution_count": 4,
   "id": "659073a4",
   "metadata": {},
   "outputs": [],
   "source": [
    "dataset = pd.read_csv('data.csv')"
   ]
  },
  {
   "cell_type": "code",
   "execution_count": 5,
   "id": "d1a5f2f3",
   "metadata": {},
   "outputs": [
    {
     "data": {
      "text/html": [
       "<div>\n",
       "<style scoped>\n",
       "    .dataframe tbody tr th:only-of-type {\n",
       "        vertical-align: middle;\n",
       "    }\n",
       "\n",
       "    .dataframe tbody tr th {\n",
       "        vertical-align: top;\n",
       "    }\n",
       "\n",
       "    .dataframe thead th {\n",
       "        text-align: right;\n",
       "    }\n",
       "</style>\n",
       "<table border=\"1\" class=\"dataframe\">\n",
       "  <thead>\n",
       "    <tr style=\"text-align: right;\">\n",
       "      <th></th>\n",
       "      <th>title</th>\n",
       "      <th>category</th>\n",
       "      <th>content</th>\n",
       "    </tr>\n",
       "  </thead>\n",
       "  <tbody>\n",
       "    <tr>\n",
       "      <th>0</th>\n",
       "      <td>Galaxy Gear có thể điều khiển TV thông minh</td>\n",
       "      <td>Công nghệ</td>\n",
       "      <td>Mẫu đồng hồ thông minh Galaxy Gear của Samsung...</td>\n",
       "    </tr>\n",
       "    <tr>\n",
       "      <th>1</th>\n",
       "      <td>Nhật – Mỹ định hội đàm chớp nhoáng tại Singapo...</td>\n",
       "      <td>Thế giới</td>\n",
       "      <td>&gt;&gt; Phó Tổng thống Mỹ công du châu Á, bàn về Bi...</td>\n",
       "    </tr>\n",
       "    <tr>\n",
       "      <th>2</th>\n",
       "      <td>Hàng ngàn học sinh miền núi Nghệ An bỏ học</td>\n",
       "      <td>Giáo dục</td>\n",
       "      <td>Hàng ngàn học sinh sau khi tốt nghiệp THCS đã ...</td>\n",
       "    </tr>\n",
       "    <tr>\n",
       "      <th>3</th>\n",
       "      <td>'Cô ấy bỏ em vì... em gái trượt đại học?'</td>\n",
       "      <td>Đời sống</td>\n",
       "      <td>Mr Búp Bê (BB): Hay là bạn phải đến kèm cho cô...</td>\n",
       "    </tr>\n",
       "    <tr>\n",
       "      <th>4</th>\n",
       "      <td>Cậu bé vượt qua Face ID của iPhone ngang anh Q...</td>\n",
       "      <td>Công nghệ</td>\n",
       "      <td>Trang Wired mới đây đưa thông tin cậu bé Ammar...</td>\n",
       "    </tr>\n",
       "  </tbody>\n",
       "</table>\n",
       "</div>"
      ],
      "text/plain": [
       "                                               title   category  \\\n",
       "0        Galaxy Gear có thể điều khiển TV thông minh  Công nghệ   \n",
       "1  Nhật – Mỹ định hội đàm chớp nhoáng tại Singapo...   Thế giới   \n",
       "2         Hàng ngàn học sinh miền núi Nghệ An bỏ học   Giáo dục   \n",
       "3          'Cô ấy bỏ em vì... em gái trượt đại học?'   Đời sống   \n",
       "4  Cậu bé vượt qua Face ID của iPhone ngang anh Q...  Công nghệ   \n",
       "\n",
       "                                             content  \n",
       "0  Mẫu đồng hồ thông minh Galaxy Gear của Samsung...  \n",
       "1  >> Phó Tổng thống Mỹ công du châu Á, bàn về Bi...  \n",
       "2  Hàng ngàn học sinh sau khi tốt nghiệp THCS đã ...  \n",
       "3  Mr Búp Bê (BB): Hay là bạn phải đến kèm cho cô...  \n",
       "4  Trang Wired mới đây đưa thông tin cậu bé Ammar...  "
      ]
     },
     "execution_count": 5,
     "metadata": {},
     "output_type": "execute_result"
    }
   ],
   "source": [
    "dataset.head()"
   ]
  },
  {
   "cell_type": "markdown",
   "id": "9d7628d6",
   "metadata": {},
   "source": [
    "# Preprocess"
   ]
  },
  {
   "cell_type": "code",
   "execution_count": 10,
   "id": "39b5a351",
   "metadata": {},
   "outputs": [],
   "source": [
    "def clean_document(doc):\n",
    "    doc = ViTokenizer.tokenize(doc) #Pyvi Vitokenizer library\n",
    "    doc = doc.lower() #Lower\n",
    "    tokens = doc.split() #Split in_to words\n",
    "    table = str.maketrans('', '', string.punctuation.replace(\"_\", \"\")) #Remove all punctuation\n",
    "    tokens = [w.translate(table) for w in tokens]\n",
    "    tokens = [word for word in tokens if word]\n",
    "    return tokens"
   ]
  },
  {
   "cell_type": "code",
   "execution_count": 11,
   "id": "703f9a69",
   "metadata": {},
   "outputs": [],
   "source": [
    "content = dataset['content'].values\n",
    "#Create tokenized data\n",
    "tokens = []\n",
    "for text in content:\n",
    "    text = clean_document(text)\n",
    "    tokens.append(text)"
   ]
  },
  {
   "cell_type": "code",
   "execution_count": 12,
   "id": "2f17d969",
   "metadata": {},
   "outputs": [
    {
     "name": "stdout",
     "output_type": "stream",
     "text": [
      "['mẫu', 'đồng_hồ', 'thông_minh', 'galaxy_gear', 'của', 'samsung', 'ảnh', 'afp', 'theo', 'slashgear', 'hôm', '210', 'nếu', 'tương_tác', 'với', 'tv', 'thông_minh', 'thì', 'galaxy_gear', 'có_thể', 'đảm_nhiệm', 'một_số', 'chức_năng', 'như', 'chuyển', 'kênh', 'tăng', 'giảm', 'âm_lượng', 'tắt', 'mở', 'tv', 'ngoài_ra', 'galaxy_gear', 'còn', 'có', 'khả_năng', 'theo_dõi', 'sức_khỏe', 'tức_là', 'các', 'thông_tin', 'về', 'sức_khỏe', 'của', 'người', 'dùng', 'khi', 'đeo', 'thiết_bị', 'sẽ', 'được', 'phát', 'đến', 'tv', 'để', 'họ', 'nắm', 'được', 'tình_trạng', 'sức_khỏe', 'của', 'mình', 'được', 'biết', 'hiện', 'galaxy_gear', 'chỉ', 'có_thể', 'làm_việc', 'trên', 'các', 'thiết_bị', 'di_động', 'của', 'samsung', 'như', 'galaxy_note', '3', 'và', 'galaxy_tab', '101', 'inch', 'thời_gian', 'tới', 'các', 'thiết_bị', 'khác', 'như', 'galaxy_s4', 'galaxy_note', '2', 'cũng', 'sẽ', 'có', 'bản', 'cập_nhật', 'để', 'tương_tác', 'được', 'với', 'galaxy_gear', 'thành', 'luân']\n"
     ]
    }
   ],
   "source": [
    "print(tokens[0])"
   ]
  },
  {
   "cell_type": "markdown",
   "id": "9da43ebe",
   "metadata": {},
   "source": [
    "# Doc2Vec"
   ]
  },
  {
   "cell_type": "code",
   "execution_count": 13,
   "id": "729efd0f",
   "metadata": {},
   "outputs": [],
   "source": [
    "def process_doc2vec_similarity(tokens, document):\n",
    "    documents = [TaggedDocument(doc, [i]) for i, doc in enumerate(tokens)]\n",
    "    model = Doc2Vec(documents, vector_size=20, window=2, min_count=1, workers=4)\n",
    "    \n",
    "    doc_token = clean_document(document)\n",
    "    doc_token = list(filter(lambda x: x in model.wv.key_to_index.keys(), doc_token))\n",
    "    doc_vector = model.infer_vector(doc_token)\n",
    "    \n",
    "    vectors = []\n",
    "    \n",
    "    for token in tokens:\n",
    "        vectors.append(model.infer_vector(token))\n",
    "    scores = cosine_similarity([doc_vector], vectors).flatten()\n",
    "    \n",
    "    highest_score = 0\n",
    "    highest_score_index = 0\n",
    "    for i, score in enumerate(scores):\n",
    "        if highest_score < score:\n",
    "            highest_score = score\n",
    "            highest_score_index = i\n",
    "\n",
    "    most_similar_document = dataset['content'].values[highest_score_index]\n",
    "\n",
    "    print(\"Most similar document by Doc2Vec with the score:\", most_similar_document, highest_score)"
   ]
  },
  {
   "cell_type": "code",
   "execution_count": 14,
   "id": "0766bfd8",
   "metadata": {},
   "outputs": [
    {
     "name": "stdout",
     "output_type": "stream",
     "text": [
      "Most similar document by Doc2Vec with the score: LG V30 sẽ được bán ra tại Hàn Quốc trong tuần này.\n",
      "LG V30 là mẫu smartphone flagship mới ra mắt hồi tháng 8/2017 của ông lớn Hàn Quốc và được LG kỳ vọng giúp tạo cú hích cho mảng kinh doanh điện thoại vốn đang tụt dốc thảm hại của hãng.\n",
      "Được lột xác nhờ thiết kế mới với viền siêu mỏng và màn hình OLED FullVision được hãng gọi là P-OLED, tỷ lệ 18:9. Kích thước lên đến 6-inch với độ phân giải 1440 x 2880 pixels, mật độ điểm ảnh 537ppi, LG-V30 hứa hẹn sẽ tạo ra sự cạnh tranh khá uy lực với Samsung Galaxy S8, Note 8 hoặc iPhone 8, iPhone 8 Plus trên thị trường.\n",
      "Được trang bị cặp camera sau \"khủng\" hứa hẹn sẽ làm hài lòng người dùng.\n",
      "Với việc được hãng định giá 840 USD trên thị trường quê nhà Hàn Quốc, LG đang cho mình một lợi thế đáng kể trước đối thủ Galaxy Note 8 đến từ Samsung (giá trên 1000 USD). Nhiều chuyên gia nhận định chắc chắn, LG V30 sẽ có được doanh số \"khủng\" khi bán ra thị trường cuối tuần này.\n",
      "Sau khi chính thức bán ra tại thị trường Hàn Quốc, LG V30 sẽ đồng loạt bán ra chính thức trên các thị trường Bắc Mỹ và châu Âu, ngày giờ cụ thể sẽ được hãng công bố chính thức tại từng quốc gia.\n",
      "Cùng điểm lại thông số kỹ thuật \"khủng\" của chiếc smartphone flagship từ LG.\n",
      "Thông số kỹ thuật LG V30.\n",
      "Màn hình.\n",
      "6 inch, POLED, độ phân giải 2K.\n",
      "Camera.\n",
      "- Camera trước: Camera kép được trang bị chống rung quang học:\n",
      "+ Camera rộng: 16Mp.\n",
      "+ Camera tele: 13Mp.\n",
      "- Camera sau: 5Mp, nhận diện khuôn mặt, chụp ảnh bằng giọng nói, cử chỉ.\n",
      "Bộ vi xử lý, OS.\n",
      "Snapdragon 835 8 nhân, hệ điều hành Android 7.1.\n",
      "Bộ nhớ.\n",
      "RAM 4GB, Bộ nhớ trong 64GB, hỗ trợ thẻ nhớ ngoài 256GB.\n",
      "Kích thước, trọng lượng.\n",
      "Dài 151.7 mm - Ngày 75.4 mm - Dày 7.4 mm, nặng 158 gram.\n",
      "Tính năng mở rộng.\n",
      "Mở khóa bằng vân tay, chống nước, chống bụi.\n",
      " 0.9433198\n"
     ]
    }
   ],
   "source": [
    "process_doc2vec_similarity(tokens, \"Hai model mới, Galaxy A34 5G và A54 5G được Samsung giới thiệu cùng thời điểm ra mắt toàn cầu. Việt Nam thuộc nhóm thị trường được ưu tiên mở bán dòng sản phẩm này sớm. Điều này là cần thiết bởi Samsung đã nới rộng vòng đời sản phẩm Galaxy A từ 6 tháng thành một năm. Đồng thời, công ty cũng nâng giá của A34 và A54 lên cao hơn khoảng 500.000-1 triệu đồng so với thế hệ trước. Mẫu Galaxy A34 5G khởi điểm từ mốc 8,5 triệu đồng, A54 5G là 10,5 triệu đồng. Đối thủ chính của 2 sản phẩm này là dòng Xiaomi 13 Lite cũng mới ra mắt. Thiết bị này sở hữu thiết kế bắt mắt và đèn flash để selfie, hướng đến đối tượng khách hàng nữ giới. Vivo V25e hay Reno 8T cũng là những lựa chọn sáng giá khác ở phân khúc này. Mặt khác, không chỉ có các hãng Android cạnh tranh ở phân khúc trung cấp. iPhone 11 chính hãng sau nhiều đợt điều chỉnh cũng về chung tầm giá này. Người dùng hiện nhiều lựa chọn hơn khi mua máy. Galaxy A34 và A54 mới ra mắt có thay đổi lớn về ngoại hình. Thiết bị có khung viền vuông vức và cụm camera tách rời, lấy cảm hứng từ Galaxy S. Sản phẩm chuyển sang sử dụng nền tảng Exynos và MediaTek mới thay vì Snapdragon. Ngoài ra, Samsung cũng hứa sẽ cập nhật phần mềm Android đến 4 năm và 5 năm vá bảo mật cho hai dòng máy tầm trung. Galaxy A34 và A54 là khởi đầu của dòng Galaxy A mới trong năm 2023. Theo nhiều tin đồn, nhà sản xuất Hàn Quốc sẽ sớm lấp đầy dải sản phẩm bằng các mẫu A24 hay A84 trong thời gian tới.\")"
   ]
  },
  {
   "cell_type": "markdown",
   "id": "f2027232",
   "metadata": {},
   "source": [
    "# Jaccard score"
   ]
  },
  {
   "cell_type": "code",
   "execution_count": 15,
   "id": "84b031d4",
   "metadata": {},
   "outputs": [],
   "source": [
    "def calculate_jaccard(word_tokens1, word_tokens2):\n",
    "    # Combine both tokens to find union.\n",
    "    both_tokens = word_tokens1 + word_tokens2\n",
    "    union = set(both_tokens)\n",
    "\n",
    "    # Calculate intersection.\n",
    "    intersection = set()\n",
    "    for w in word_tokens1:\n",
    "        if w in word_tokens2:\n",
    "            intersection.add(w)\n",
    "\n",
    "    jaccard_score = len(intersection)/len(union)\n",
    "    return jaccard_score"
   ]
  },
  {
   "cell_type": "code",
   "execution_count": 16,
   "id": "4e1d0151",
   "metadata": {},
   "outputs": [],
   "source": [
    "def process_jaccard_similarity(base_tokens, document):\n",
    "    doc_token = clean_document(document)\n",
    "    scores = []\n",
    "    for token in base_tokens:\n",
    "        score = calculate_jaccard(token, doc_token)\n",
    "        scores.append(score)\n",
    "\n",
    "    highest_score = 0\n",
    "    highest_score_index = 0\n",
    "    for i, score in enumerate(scores):\n",
    "        if highest_score < score:\n",
    "            highest_score = score\n",
    "            highest_score_index = i\n",
    "\n",
    "    most_similar_document = dataset['content'].values[highest_score_index]\n",
    "\n",
    "    print(\"Most similar document by Jaccard with the score:\", most_similar_document, highest_score)"
   ]
  },
  {
   "cell_type": "code",
   "execution_count": 17,
   "id": "34dd6413",
   "metadata": {},
   "outputs": [
    {
     "name": "stdout",
     "output_type": "stream",
     "text": [
      "Most similar document by Jaccard with the score: Điều khó tin đang xuất hiện tại thị trường Việt Nam khi giá iPhone 6 Plus chính hãng có xu hướng rẻ hơn so với iPhone 6. Một nhà bán lẻ trong nước đang cho bán iPhone 6 Plus chính hãng giá 11,99 triệu đồng. Tuy nhiên, nếu mua online, giá bán của máy giảm xuống thành 11,49 triệu đồng.\n",
      "Trong khi đó, mẫu iPhone 6 hiện có giá bán 11,99 triệu đồng. Tính ra, người dùng có thể tiết kiệm 500.000 đồng nếu mua iPhone 6 Plus so với iPhone 6.\n",
      "Giá bán iPhone 6 Plus đang thấp hơn cả iPhone 6. Ảnh chụp màn hình.\n",
      "Đây là chuyện khá hy hữu trên thị trường bởi từ thời điểm cuối 2014 (khi máy lên kệ), giá bán của iPhone 6 Plus luôn cao hơn khoảng 2,5 triệu đồng so với iPhone 6.\n",
      "Theo thông tin từ các đại lý trong nước, iPhone 6 16 GB có dấu hiệu khan hàng từ cuối năm ngoái. Một số nơi hiện không có sản phẩm để bán.\n",
      "Bản thân đại lý lớn nhất Việt Nam cũng chỉ mới nhập được một đợt hàng cách đây vài hôm. Trong khi đó, nguồn hàng iPhone 6 Plus 16 GB vẫn ổn định.\n",
      "Một số giả thiết được đưa ra là do iPhone 6 16 GB (chính hãng) mới trở lại thị trường nên giá bán của máy chưa được điều chỉnh hợp lý. Một khả năng khác là iPhone 6 16 GB có thể sẽ bị khai tử trên thị trường nên nhà bán lẻ thả nổi giá bán của máy, không điều chỉnh.\n",
      "Giả thiết này càng tỏ ra hợp lý khi mới đây các nguồn tin trong nước cho hay iPhone 6 32 GB chính hãng sẽ về nước vào cuối tháng 3 hoặc đầu tháng 4 với giá bán 9,99 triệu đồng.\n",
      "iPhone 6 32 GB sắp về nước.\n",
      "iPhone 6 32 GB là sản phẩm mới được Apple phát hành cho các thị trường đang phát triển. Nó không xuất hiện trên trang bán lẻ của Apple. Trước đó khi ra mắt iPhone 6, 6 Plus (2014), hãng chỉ cho phát hành các bản 16, 64 và 128 GB.\n",
      "So với iPhone 6, 6 Plus sở hữu một số điểm nâng cấp như màn hình lớn (5,5 so với 4,7 inch), độ phân giải cao hơn, pin thời lượng tốt hơn và camera sau hỗ trợ chống rung quang học. Tuy nhiên, khá nhiều người ưa thích bản iPhone 6 hơn bởi kích thước màn hình vừa tay, sử dụng thuận tiện hơn.\n",
      "Tại các thị trường phát triển, iPhone 6 và 6 Plus đã bị khai tử sau khi Apple ra mắt iPhone 7, biến iPhone SE thành model rẻ nhất của hãng. Mặc dù vậy, người dùng vẫn có thể tìm mua những model này với giá khoảng 390-490 USD.\n",
      "Thành Duy.\n",
      " 0.23157894736842105\n"
     ]
    }
   ],
   "source": [
    "process_jaccard_similarity(tokens, \"Hai model mới, Galaxy A34 5G và A54 5G được Samsung giới thiệu cùng thời điểm ra mắt toàn cầu. Việt Nam thuộc nhóm thị trường được ưu tiên mở bán dòng sản phẩm này sớm. Điều này là cần thiết bởi Samsung đã nới rộng vòng đời sản phẩm Galaxy A từ 6 tháng thành một năm. Đồng thời, công ty cũng nâng giá của A34 và A54 lên cao hơn khoảng 500.000-1 triệu đồng so với thế hệ trước. Mẫu Galaxy A34 5G khởi điểm từ mốc 8,5 triệu đồng, A54 5G là 10,5 triệu đồng. Đối thủ chính của 2 sản phẩm này là dòng Xiaomi 13 Lite cũng mới ra mắt. Thiết bị này sở hữu thiết kế bắt mắt và đèn flash để selfie, hướng đến đối tượng khách hàng nữ giới. Vivo V25e hay Reno 8T cũng là những lựa chọn sáng giá khác ở phân khúc này. Mặt khác, không chỉ có các hãng Android cạnh tranh ở phân khúc trung cấp. iPhone 11 chính hãng sau nhiều đợt điều chỉnh cũng về chung tầm giá này. Người dùng hiện nhiều lựa chọn hơn khi mua máy. Galaxy A34 và A54 mới ra mắt có thay đổi lớn về ngoại hình. Thiết bị có khung viền vuông vức và cụm camera tách rời, lấy cảm hứng từ Galaxy S. Sản phẩm chuyển sang sử dụng nền tảng Exynos và MediaTek mới thay vì Snapdragon. Ngoài ra, Samsung cũng hứa sẽ cập nhật phần mềm Android đến 4 năm và 5 năm vá bảo mật cho hai dòng máy tầm trung. Galaxy A34 và A54 là khởi đầu của dòng Galaxy A mới trong năm 2023. Theo nhiều tin đồn, nhà sản xuất Hàn Quốc sẽ sớm lấp đầy dải sản phẩm bằng các mẫu A24 hay A84 trong thời gian tới.\")"
   ]
  },
  {
   "cell_type": "markdown",
   "id": "b0e6c570",
   "metadata": {},
   "source": [
    "# TF-IDF "
   ]
  },
  {
   "cell_type": "code",
   "execution_count": 18,
   "id": "452795cf",
   "metadata": {},
   "outputs": [],
   "source": [
    "def process_tfidf_similarity(document):\n",
    "    vectorizer = TfidfVectorizer()\n",
    "    base_docs = list(dataset['content'].values)\n",
    "\n",
    "    # To make uniformed vectors, both documents need to be combined first.\n",
    "    base_docs.insert(0, document)\n",
    "    embeddings = vectorizer.fit_transform(base_docs)\n",
    "\n",
    "    scores = cosine_similarity(embeddings[0:1], embeddings[1:]).flatten()\n",
    "\n",
    "    highest_score = 0\n",
    "    highest_score_index = 0\n",
    "    for i, score in enumerate(scores):\n",
    "        if highest_score < score:\n",
    "            highest_score = score\n",
    "            highest_score_index = i\n",
    "\n",
    "\n",
    "    most_similar_document = dataset['content'].values[highest_score_index]\n",
    "\n",
    "    print(\"Most similar document by TF-IDF with the score:\", most_similar_document, highest_score)"
   ]
  },
  {
   "cell_type": "code",
   "execution_count": 19,
   "id": "4a091497",
   "metadata": {},
   "outputs": [
    {
     "name": "stdout",
     "output_type": "stream",
     "text": [
      "Most similar document by TF-IDF with the score: Công ty Điện tử Samsung Vina vừa công bố số liệu thống kê lượng máy bán ra của các sản phẩm thuộc dòng Galaxy A 2016, cụ thể là Galaxy A3, Galaxy A5 và Galaxy A7 ra mắt trong nửa đầu năm nay. Theo đó, sự yêu thích mà người dùng dành cho dòng Galaxy A 2016 được thể hiện qua doanh số lớn mà 3 sản phẩm trên mang lại so với các thiết bị tiền nhiệm năm 2015.\n",
      "Galaxy A5 2016 đi đầu doanh thu trong dòng Galaxy A.\n",
      "Galaxy A5 2016 gây ấn tượng mạnh khi doanh số tăng đến 74% so với Galaxy A5 2015. Nối tiếp là Galaxy A3 2016 với doanh số vượt xa Galaxy A3 2015 43%. Về cuối cùng nhưng ấn tượng không kém là Galaxy A7 2016, với doanh số tăng 37% so với Galaxy A7 2015. Tỷ lệ tăng trưởng này cũng phản ánh sự yêu thích của người dùng đối với từng sản phẩm trong dòng Galaxy A 2016, theo thứ tự lần lượt là Galaxy A5, Galaxy A3 và Galaxy A7.\n",
      "Phiên bản máy màu vàng (gold) được ưa chuộng nhất.\n",
      "Tỷ lệ các phiên bản màu của dòng Galaxy A 2016 cũng được thể hiện rõ sau 4 tháng mở bán chính thức tại Việt Nam. Phiên bản màu vàng (gold) tiếp tục thể hiện sức hút mạnh mẽ đối với người dùng khi có doanh số áp đảo, chiếm đến 70% lượng máy bán ra. Các phiên bản màu vàng hồng (rose gold) và đen (black) lần lượt chiếm giữ phần trăm lượng máy bán ra là 20% và 10%.\n",
      "Galaxy A 2016 hấp dẫn giới trẻ năng động.\n",
      "Không chỉ có doanh số bán ấn tượng, Galaxy A 2016 còn đánh trúng tâm lý mong muốn khẳng định chất tôi của giới trẻ thông qua thiết kế cao cấp, cấu hình mạnh và những tính năng bắt kịp xu hướng. Theo thông tin từ hãng, có đến 80% khách hàng lựa chọn Galaxy A 2016 nằm trong độ tuổi từ 23 đến 35.\n",
      "Mặc dù 2 thiết bị Galaxy A5 2016 và Galaxy A7 2016 đều được đa số nam giới lựa chọn nhưng Galaxy A7 nhỉnh hơn một chút khi có 67% người dùng nam, trong khi tỷ lệ này ở Galaxy A5 là 66%. Số còn lại là người dùng nữ với tỷ lệ lần lượt là 33% và 34% cho Galaxy A7 và Galaxy A5. Về nghề nghiệp, Galaxy A5 2016 và Galaxy A7 2016 đều được giới văn phòng lựa chọn nhiều nhất, chiếm 31% tổng người dùng của cả dòng sản phẩm.\n",
      "Thiết kế cao cấp hút người dùng.\n",
      "Thông qua các cuộc khảo sát của Samsung, nhiều người dùng cho phản hồi tích cực về Galaxy A5 2016 và Galaxy A7 2016. Đa số người dùng đều lựa chọn 2 sản phẩm này vì ấn tượng với thiết kế kim loại và kính sang trọng. Cụ thể, cứ 3 người dùng thì có một người ấn tượng và lựa chọn Galaxy A 2016 vì thiết kế. Tiếp sau là các lý do như tính năng mạnh mẽ, công nghệ mới, camera, thương hiệu, giá tốt, quà tặng.\n",
      "Xét trên tổng thể, hơn 50% người dùng hài lòng về thiết kế, camera và hiệu năng trên các thiết bị thuộc dòng Galaxy A 2016. Với việc trang bị khẩu độ lớn f/1.9 cùng hàng loạt tính năng phục vụ việc selfie như Palm Selfie, Wide Selfie, Galaxy A 2016 mang lại nhiều trải nghiệm khác biệt cho người dùng.\n",
      "Dòng Galaxy A 2016 đang có mặt trên thị trường với các mức giá lần lượt là 6,19 triệu đồng cho Galaxy A3, 8,99 triệu đồng cho Galaxy A5 và 10,99 triệu đồng cho Galaxy A7.\n",
      "Sơn Trà.\n",
      " 0.360433731774809\n"
     ]
    }
   ],
   "source": [
    "process_tfidf_similarity(\"Hai model mới, Galaxy A34 5G và A54 5G được Samsung giới thiệu cùng thời điểm ra mắt toàn cầu. Việt Nam thuộc nhóm thị trường được ưu tiên mở bán dòng sản phẩm này sớm. Điều này là cần thiết bởi Samsung đã nới rộng vòng đời sản phẩm Galaxy A từ 6 tháng thành một năm. Đồng thời, công ty cũng nâng giá của A34 và A54 lên cao hơn khoảng 500.000-1 triệu đồng so với thế hệ trước. Mẫu Galaxy A34 5G khởi điểm từ mốc 8,5 triệu đồng, A54 5G là 10,5 triệu đồng. Đối thủ chính của 2 sản phẩm này là dòng Xiaomi 13 Lite cũng mới ra mắt. Thiết bị này sở hữu thiết kế bắt mắt và đèn flash để selfie, hướng đến đối tượng khách hàng nữ giới. Vivo V25e hay Reno 8T cũng là những lựa chọn sáng giá khác ở phân khúc này. Mặt khác, không chỉ có các hãng Android cạnh tranh ở phân khúc trung cấp. iPhone 11 chính hãng sau nhiều đợt điều chỉnh cũng về chung tầm giá này. Người dùng hiện nhiều lựa chọn hơn khi mua máy. Galaxy A34 và A54 mới ra mắt có thay đổi lớn về ngoại hình. Thiết bị có khung viền vuông vức và cụm camera tách rời, lấy cảm hứng từ Galaxy S. Sản phẩm chuyển sang sử dụng nền tảng Exynos và MediaTek mới thay vì Snapdragon. Ngoài ra, Samsung cũng hứa sẽ cập nhật phần mềm Android đến 4 năm và 5 năm vá bảo mật cho hai dòng máy tầm trung. Galaxy A34 và A54 là khởi đầu của dòng Galaxy A mới trong năm 2023. Theo nhiều tin đồn, nhà sản xuất Hàn Quốc sẽ sớm lấp đầy dải sản phẩm bằng các mẫu A24 hay A84 trong thời gian tới.\")"
   ]
  },
  {
   "cell_type": "markdown",
   "id": "4bb2c59e",
   "metadata": {},
   "source": [
    "# USE (Tensorflow)"
   ]
  },
  {
   "cell_type": "code",
   "execution_count": 20,
   "id": "6141e50f",
   "metadata": {},
   "outputs": [],
   "source": [
    "import tensorflow as tf\n",
    "import tensorflow_hub as hub\n",
    "\n",
    "\n",
    "def process_use_similarity(document):\n",
    "    filename = \"https://tfhub.dev/google/universal-sentence-encoder/4\"\n",
    "\n",
    "    model = hub.load(filename)\n",
    "\n",
    "    doc_embeddings = model([document])\n",
    "\n",
    "    embeddings = model(tokens)\n",
    "\n",
    "    scores = cosine_similarity(doc_embeddings, embeddings).flatten()\n",
    "\n",
    "    highest_score = 0\n",
    "    highest_score_index = 0\n",
    "    for i, score in enumerate(scores):\n",
    "        if highest_score < score:\n",
    "            highest_score = score\n",
    "            highest_score_index = i\n",
    "\n",
    "    most_similar_document = dataset['content'].values[highest_score_index]\n",
    "    print(\"Most similar document by USE with the score:\", most_similar_document, highest_score)"
   ]
  },
  {
   "cell_type": "code",
   "execution_count": null,
   "id": "2e24a5b1",
   "metadata": {},
   "outputs": [],
   "source": [
    "process_use_similarity(\"Hai model mới, Galaxy A34 5G và A54 5G được Samsung giới thiệu cùng thời điểm ra mắt toàn cầu. Việt Nam thuộc nhóm thị trường được ưu tiên mở bán dòng sản phẩm này sớm. Điều này là cần thiết bởi Samsung đã nới rộng vòng đời sản phẩm Galaxy A từ 6 tháng thành một năm. Đồng thời, công ty cũng nâng giá của A34 và A54 lên cao hơn khoảng 500.000-1 triệu đồng so với thế hệ trước. Mẫu Galaxy A34 5G khởi điểm từ mốc 8,5 triệu đồng, A54 5G là 10,5 triệu đồng. Đối thủ chính của 2 sản phẩm này là dòng Xiaomi 13 Lite cũng mới ra mắt. Thiết bị này sở hữu thiết kế bắt mắt và đèn flash để selfie, hướng đến đối tượng khách hàng nữ giới. Vivo V25e hay Reno 8T cũng là những lựa chọn sáng giá khác ở phân khúc này. Mặt khác, không chỉ có các hãng Android cạnh tranh ở phân khúc trung cấp. iPhone 11 chính hãng sau nhiều đợt điều chỉnh cũng về chung tầm giá này. Người dùng hiện nhiều lựa chọn hơn khi mua máy. Galaxy A34 và A54 mới ra mắt có thay đổi lớn về ngoại hình. Thiết bị có khung viền vuông vức và cụm camera tách rời, lấy cảm hứng từ Galaxy S. Sản phẩm chuyển sang sử dụng nền tảng Exynos và MediaTek mới thay vì Snapdragon. Ngoài ra, Samsung cũng hứa sẽ cập nhật phần mềm Android đến 4 năm và 5 năm vá bảo mật cho hai dòng máy tầm trung. Galaxy A34 và A54 là khởi đầu của dòng Galaxy A mới trong năm 2023. Theo nhiều tin đồn, nhà sản xuất Hàn Quốc sẽ sớm lấp đầy dải sản phẩm bằng các mẫu A24 hay A84 trong thời gian tới.\")"
   ]
  },
  {
   "cell_type": "markdown",
   "id": "420aa3f1",
   "metadata": {},
   "source": [
    "# BERT (Google's Transformer)"
   ]
  },
  {
   "cell_type": "code",
   "execution_count": 23,
   "id": "a25796da",
   "metadata": {},
   "outputs": [
    {
     "name": "stdout",
     "output_type": "stream",
     "text": [
      "Collecting sentence_transformers\n",
      "  Downloading sentence-transformers-2.2.2.tar.gz (85 kB)\n",
      "Collecting transformers<5.0.0,>=4.6.0\n",
      "  Downloading transformers-4.27.1-py3-none-any.whl (6.7 MB)\n",
      "Requirement already satisfied: tqdm in c:\\users\\asus\\anaconda3\\lib\\site-packages (from sentence_transformers) (4.64.0)\n",
      "Collecting torch>=1.6.0\n",
      "  Downloading torch-2.0.0-cp39-cp39-win_amd64.whl (172.3 MB)\n",
      "Collecting torchvision\n",
      "  Downloading torchvision-0.15.1-cp39-cp39-win_amd64.whl (1.2 MB)\n",
      "Requirement already satisfied: numpy in c:\\users\\asus\\anaconda3\\lib\\site-packages (from sentence_transformers) (1.21.5)\n",
      "Requirement already satisfied: scikit-learn in c:\\users\\asus\\anaconda3\\lib\\site-packages (from sentence_transformers) (1.0.2)\n",
      "Requirement already satisfied: scipy in c:\\users\\asus\\anaconda3\\lib\\site-packages (from sentence_transformers) (1.7.3)\n",
      "Requirement already satisfied: nltk in c:\\users\\asus\\anaconda3\\lib\\site-packages (from sentence_transformers) (3.7)\n",
      "Collecting sentencepiece\n",
      "  Downloading sentencepiece-0.1.97-cp39-cp39-win_amd64.whl (1.1 MB)\n",
      "Collecting huggingface-hub>=0.4.0\n",
      "  Downloading huggingface_hub-0.13.2-py3-none-any.whl (199 kB)\n",
      "Requirement already satisfied: requests in c:\\users\\asus\\anaconda3\\lib\\site-packages (from huggingface-hub>=0.4.0->sentence_transformers) (2.27.1)\n",
      "Requirement already satisfied: filelock in c:\\users\\asus\\anaconda3\\lib\\site-packages (from huggingface-hub>=0.4.0->sentence_transformers) (3.6.0)\n",
      "Requirement already satisfied: packaging>=20.9 in c:\\users\\asus\\anaconda3\\lib\\site-packages (from huggingface-hub>=0.4.0->sentence_transformers) (21.3)\n",
      "Requirement already satisfied: typing-extensions>=3.7.4.3 in c:\\users\\asus\\anaconda3\\lib\\site-packages (from huggingface-hub>=0.4.0->sentence_transformers) (4.1.1)\n",
      "Requirement already satisfied: pyyaml>=5.1 in c:\\users\\asus\\anaconda3\\lib\\site-packages (from huggingface-hub>=0.4.0->sentence_transformers) (6.0)\n",
      "Requirement already satisfied: pyparsing!=3.0.5,>=2.0.2 in c:\\users\\asus\\anaconda3\\lib\\site-packages (from packaging>=20.9->huggingface-hub>=0.4.0->sentence_transformers) (3.0.4)\n",
      "Requirement already satisfied: networkx in c:\\users\\asus\\anaconda3\\lib\\site-packages (from torch>=1.6.0->sentence_transformers) (2.7.1)\n",
      "Requirement already satisfied: sympy in c:\\users\\asus\\anaconda3\\lib\\site-packages (from torch>=1.6.0->sentence_transformers) (1.10.1)\n",
      "Requirement already satisfied: jinja2 in c:\\users\\asus\\anaconda3\\lib\\site-packages (from torch>=1.6.0->sentence_transformers) (2.11.3)\n",
      "Requirement already satisfied: colorama in c:\\users\\asus\\anaconda3\\lib\\site-packages (from tqdm->sentence_transformers) (0.4.4)\n",
      "Collecting tokenizers!=0.11.3,<0.14,>=0.11.1\n",
      "  Downloading tokenizers-0.13.2-cp39-cp39-win_amd64.whl (3.3 MB)\n",
      "Requirement already satisfied: regex!=2019.12.17 in c:\\users\\asus\\anaconda3\\lib\\site-packages (from transformers<5.0.0,>=4.6.0->sentence_transformers) (2022.3.15)\n",
      "Requirement already satisfied: MarkupSafe>=0.23 in c:\\users\\asus\\anaconda3\\lib\\site-packages (from jinja2->torch>=1.6.0->sentence_transformers) (2.0.1)\n",
      "Requirement already satisfied: joblib in c:\\users\\asus\\anaconda3\\lib\\site-packages (from nltk->sentence_transformers) (1.1.0)\n",
      "Requirement already satisfied: click in c:\\users\\asus\\anaconda3\\lib\\site-packages (from nltk->sentence_transformers) (8.0.4)\n",
      "Requirement already satisfied: certifi>=2017.4.17 in c:\\users\\asus\\anaconda3\\lib\\site-packages (from requests->huggingface-hub>=0.4.0->sentence_transformers) (2021.10.8)\n",
      "Requirement already satisfied: charset-normalizer~=2.0.0 in c:\\users\\asus\\anaconda3\\lib\\site-packages (from requests->huggingface-hub>=0.4.0->sentence_transformers) (2.0.4)\n",
      "Requirement already satisfied: idna<4,>=2.5 in c:\\users\\asus\\anaconda3\\lib\\site-packages (from requests->huggingface-hub>=0.4.0->sentence_transformers) (3.3)\n",
      "Requirement already satisfied: urllib3<1.27,>=1.21.1 in c:\\users\\asus\\anaconda3\\lib\\site-packages (from requests->huggingface-hub>=0.4.0->sentence_transformers) (1.26.9)\n",
      "Requirement already satisfied: threadpoolctl>=2.0.0 in c:\\users\\asus\\anaconda3\\lib\\site-packages (from scikit-learn->sentence_transformers) (2.2.0)\n",
      "Requirement already satisfied: mpmath>=0.19 in c:\\users\\asus\\anaconda3\\lib\\site-packages (from sympy->torch>=1.6.0->sentence_transformers) (1.2.1)\n",
      "Requirement already satisfied: pillow!=8.3.*,>=5.3.0 in c:\\users\\asus\\anaconda3\\lib\\site-packages (from torchvision->sentence_transformers) (9.0.1)\n",
      "Building wheels for collected packages: sentence-transformers\n",
      "  Building wheel for sentence-transformers (setup.py): started\n",
      "  Building wheel for sentence-transformers (setup.py): finished with status 'done'\n",
      "  Created wheel for sentence-transformers: filename=sentence_transformers-2.2.2-py3-none-any.whl size=125940 sha256=8ac4c382b08a435a2f5ae1712774b60a486cd3306a749e33fa81f13866d904fd\n",
      "  Stored in directory: c:\\users\\asus\\appdata\\local\\pip\\cache\\wheels\\71\\67\\06\\162a3760c40d74dd40bc855d527008d26341c2b0ecf3e8e11f\n",
      "Successfully built sentence-transformers\n",
      "Installing collected packages: torch, tokenizers, huggingface-hub, transformers, torchvision, sentencepiece, sentence-transformers\n",
      "Successfully installed huggingface-hub-0.13.2 sentence-transformers-2.2.2 sentencepiece-0.1.97 tokenizers-0.13.2 torch-2.0.0 torchvision-0.15.1 transformers-4.27.1\n"
     ]
    }
   ],
   "source": [
    "!pip install sentence_transformers"
   ]
  },
  {
   "cell_type": "code",
   "execution_count": null,
   "id": "a2bd8868",
   "metadata": {},
   "outputs": [],
   "source": [
    "import nltk\n",
    "nltk.download('punkt')"
   ]
  },
  {
   "cell_type": "code",
   "execution_count": 25,
   "id": "48d21827",
   "metadata": {},
   "outputs": [],
   "source": [
    "import numpy as np\n",
    "from nltk import sent_tokenize\n",
    "from sentence_transformers import SentenceTransformer"
   ]
  },
  {
   "cell_type": "code",
   "execution_count": null,
   "id": "0a60f376",
   "metadata": {},
   "outputs": [],
   "source": []
  }
 ],
 "metadata": {
  "kernelspec": {
   "display_name": "Python 3 (ipykernel)",
   "language": "python",
   "name": "python3"
  },
  "language_info": {
   "codemirror_mode": {
    "name": "ipython",
    "version": 3
   },
   "file_extension": ".py",
   "mimetype": "text/x-python",
   "name": "python",
   "nbconvert_exporter": "python",
   "pygments_lexer": "ipython3",
   "version": "3.9.12"
  }
 },
 "nbformat": 4,
 "nbformat_minor": 5
}
